{
 "cells": [
  {
   "cell_type": "markdown",
   "metadata": {},
   "source": [
    "### ДЗ-1 по Автоматической обработке естественного языка. Ключевые слова."
   ]
  },
  {
   "cell_type": "markdown",
   "metadata": {},
   "source": [
    "#### Настя Чижикова, БКЛ181"
   ]
  },
  {
   "cell_type": "markdown",
   "metadata": {},
   "source": [
    "Данные взяты с сайта http://www.physics.uni-altai.ru/, где в разделе \"Новости\" можно найти много статей, для которых внизу прописаны ключевые слова (для удобного поиска по сайту)"
   ]
  },
  {
   "cell_type": "code",
   "execution_count": 308,
   "metadata": {},
   "outputs": [],
   "source": [
    "import matplotlib.pyplot as plt\n",
    "import nltk\n",
    "from nltk.corpus import stopwords\n",
    "import numpy as np\n",
    "from sklearn.feature_extraction.text import TfidfVectorizer\n",
    "from summa import keywords\n",
    "import RAKE\n",
    "import pandas as pd\n",
    "from pymorphy2 import MorphAnalyzer\n",
    "from pymorphy2.tokenizers import simple_word_tokenize\n",
    "\n",
    "\n",
    "stopwords = list(set(stopwords.words('russian'))) +['который']"
   ]
  },
  {
   "cell_type": "code",
   "execution_count": 283,
   "metadata": {},
   "outputs": [],
   "source": [
    "data = pd.read_csv('keywords_data.csv', sep=';').dropna()"
   ]
  },
  {
   "cell_type": "code",
   "execution_count": 284,
   "metadata": {},
   "outputs": [
    {
     "data": {
      "text/html": [
       "<div>\n",
       "<style scoped>\n",
       "    .dataframe tbody tr th:only-of-type {\n",
       "        vertical-align: middle;\n",
       "    }\n",
       "\n",
       "    .dataframe tbody tr th {\n",
       "        vertical-align: top;\n",
       "    }\n",
       "\n",
       "    .dataframe thead th {\n",
       "        text-align: right;\n",
       "    }\n",
       "</style>\n",
       "<table border=\"1\" class=\"dataframe\">\n",
       "  <thead>\n",
       "    <tr style=\"text-align: right;\">\n",
       "      <th></th>\n",
       "      <th>text</th>\n",
       "      <th>annotation_data</th>\n",
       "      <th>annotation_mine</th>\n",
       "    </tr>\n",
       "  </thead>\n",
       "  <tbody>\n",
       "    <tr>\n",
       "      <th>0</th>\n",
       "      <td>Сотрудники института физико-математического об...</td>\n",
       "      <td>астрономия; публичные наблюдения</td>\n",
       "      <td>публичные астрономические наблюдения</td>\n",
       "    </tr>\n",
       "    <tr>\n",
       "      <th>1</th>\n",
       "      <td>Вчера группой любителей астрономии нашего горо...</td>\n",
       "      <td>Солнце; Венера; прохождение; транзит</td>\n",
       "      <td>диск Солнца; Венера; прохождение</td>\n",
       "    </tr>\n",
       "    <tr>\n",
       "      <th>2</th>\n",
       "      <td>Наука терпит крах в попытках объяснить характе...</td>\n",
       "      <td>звезда; Солнце; VLT; ESO; Большое Магелланово ...</td>\n",
       "      <td>Солнце; диаграмма Герцшпрунга-Рессела; звезда;...</td>\n",
       "    </tr>\n",
       "    <tr>\n",
       "      <th>3</th>\n",
       "      <td>Завтра - 10 декабря - жители нашего края могут...</td>\n",
       "      <td>лунное затмение</td>\n",
       "      <td>Луна; лунное затмение</td>\n",
       "    </tr>\n",
       "    <tr>\n",
       "      <th>4</th>\n",
       "      <td>В России стартовала британско-российская образ...</td>\n",
       "      <td>телескоп; марка; астрономия; образование; школа</td>\n",
       "      <td>телескоп Фолкеса; школа; программа</td>\n",
       "    </tr>\n",
       "  </tbody>\n",
       "</table>\n",
       "</div>"
      ],
      "text/plain": [
       "                                                text  \\\n",
       "0  Сотрудники института физико-математического об...   \n",
       "1  Вчера группой любителей астрономии нашего горо...   \n",
       "2  Наука терпит крах в попытках объяснить характе...   \n",
       "3  Завтра - 10 декабря - жители нашего края могут...   \n",
       "4  В России стартовала британско-российская образ...   \n",
       "\n",
       "                                     annotation_data  \\\n",
       "0                   астрономия; публичные наблюдения   \n",
       "1               Солнце; Венера; прохождение; транзит   \n",
       "2  звезда; Солнце; VLT; ESO; Большое Магелланово ...   \n",
       "3                                    лунное затмение   \n",
       "4    телескоп; марка; астрономия; образование; школа   \n",
       "\n",
       "                                     annotation_mine  \n",
       "0               публичные астрономические наблюдения  \n",
       "1                   диск Солнца; Венера; прохождение  \n",
       "2  Солнце; диаграмма Герцшпрунга-Рессела; звезда;...  \n",
       "3                              Луна; лунное затмение  \n",
       "4                 телескоп Фолкеса; школа; программа  "
      ]
     },
     "execution_count": 284,
     "metadata": {},
     "output_type": "execute_result"
    }
   ],
   "source": [
    "data.rename(columns = {'Текст': 'text', 'Разметка_данные': 'annotation_data', 'Разметка_моя': 'annotation_mine'}, \n",
    "            inplace = True)\n",
    "data.head()"
   ]
  },
  {
   "cell_type": "markdown",
   "metadata": {},
   "source": [
    "Перед тем как составлять эталон, сделаем предобработку текстов (и еще превратим разметку в списки)"
   ]
  },
  {
   "cell_type": "code",
   "execution_count": 285,
   "metadata": {},
   "outputs": [],
   "source": [
    "m = MorphAnalyzer()\n",
    "\n",
    "def preprocess(text):\n",
    "    lemmas = []\n",
    "    for t in simple_word_tokenize(text):\n",
    "        lemmas.append(\n",
    "            m.parse(t)[0].normal_form\n",
    "        )\n",
    "    return ' '.join(lemmas)\n",
    "\n",
    "def process_annotation(text: str):\n",
    "    return text.split('; ')"
   ]
  },
  {
   "cell_type": "code",
   "execution_count": 286,
   "metadata": {},
   "outputs": [],
   "source": [
    "data['text'] = data['text'].apply(preprocess)\n",
    "data['annotation_data'] = data['annotation_data'].apply(process_annotation)\n",
    "data['annotation_mine'] = data['annotation_mine'].apply(process_annotation)"
   ]
  },
  {
   "cell_type": "markdown",
   "metadata": {},
   "source": [
    "Для эталона возьмем общее из моей разметки и ключевых слов с сайта, однако удалим те ключевые слова, которые не встречаются в тексте"
   ]
  },
  {
   "cell_type": "code",
   "execution_count": 287,
   "metadata": {},
   "outputs": [],
   "source": [
    "def get_gold_standard(row):\n",
    "    text = row['text']\n",
    "    annot1 = row['annotation_data']\n",
    "    annot2 = row['annotation_mine']\n",
    "    \n",
    "    gold_keywords = set()\n",
    "    \n",
    "    for keyword in annot1 + annot2:\n",
    "        prep_keyword = preprocess(keyword)\n",
    "        if prep_keyword in text:\n",
    "            gold_keywords.add(prep_keyword)\n",
    "            \n",
    "    return list(gold_keywords)"
   ]
  },
  {
   "cell_type": "code",
   "execution_count": 288,
   "metadata": {},
   "outputs": [],
   "source": [
    "data['keywords'] = data.apply(lambda x: get_gold_standard(x), axis=1)"
   ]
  },
  {
   "cell_type": "code",
   "execution_count": 289,
   "metadata": {},
   "outputs": [
    {
     "data": {
      "text/html": [
       "<div>\n",
       "<style scoped>\n",
       "    .dataframe tbody tr th:only-of-type {\n",
       "        vertical-align: middle;\n",
       "    }\n",
       "\n",
       "    .dataframe tbody tr th {\n",
       "        vertical-align: top;\n",
       "    }\n",
       "\n",
       "    .dataframe thead th {\n",
       "        text-align: right;\n",
       "    }\n",
       "</style>\n",
       "<table border=\"1\" class=\"dataframe\">\n",
       "  <thead>\n",
       "    <tr style=\"text-align: right;\">\n",
       "      <th></th>\n",
       "      <th>text</th>\n",
       "      <th>annotation_data</th>\n",
       "      <th>annotation_mine</th>\n",
       "      <th>keywords</th>\n",
       "    </tr>\n",
       "  </thead>\n",
       "  <tbody>\n",
       "    <tr>\n",
       "      <th>0</th>\n",
       "      <td>сотрудник институт физико-математический образ...</td>\n",
       "      <td>[астрономия, публичные наблюдения]</td>\n",
       "      <td>[публичные астрономические наблюдения]</td>\n",
       "      <td>[публичный астрономический наблюдение]</td>\n",
       "    </tr>\n",
       "    <tr>\n",
       "      <th>1</th>\n",
       "      <td>вчера группа любитель астрономия наш город быт...</td>\n",
       "      <td>[Солнце, Венера, прохождение, транзит]</td>\n",
       "      <td>[диск Солнца, Венера, прохождение]</td>\n",
       "      <td>[прохождение, венера, диск солнце, солнце]</td>\n",
       "    </tr>\n",
       "    <tr>\n",
       "      <th>2</th>\n",
       "      <td>наука терпеть крах в попытка объяснить характе...</td>\n",
       "      <td>[звезда, Солнце, VLT, ESO, Большое Магелланово...</td>\n",
       "      <td>[Солнце, диаграмма Герцшпрунга-Рессела, звезда...</td>\n",
       "      <td>[eso, диаграмма герцшпрунг-рессело, большой ма...</td>\n",
       "    </tr>\n",
       "    <tr>\n",
       "      <th>3</th>\n",
       "      <td>завтра - 10 декабрь - житель наш край мочь ста...</td>\n",
       "      <td>[лунное затмение]</td>\n",
       "      <td>[Луна, лунное затмение]</td>\n",
       "      <td>[луна, лунный затмение]</td>\n",
       "    </tr>\n",
       "    <tr>\n",
       "      <th>4</th>\n",
       "      <td>в россия стартовать британско-российский образ...</td>\n",
       "      <td>[телескоп, марка, астрономия, образование, школа]</td>\n",
       "      <td>[телескоп Фолкеса, школа, программа]</td>\n",
       "      <td>[программа, телескоп фолкес, школа, образовани...</td>\n",
       "    </tr>\n",
       "  </tbody>\n",
       "</table>\n",
       "</div>"
      ],
      "text/plain": [
       "                                                text  \\\n",
       "0  сотрудник институт физико-математический образ...   \n",
       "1  вчера группа любитель астрономия наш город быт...   \n",
       "2  наука терпеть крах в попытка объяснить характе...   \n",
       "3  завтра - 10 декабрь - житель наш край мочь ста...   \n",
       "4  в россия стартовать британско-российский образ...   \n",
       "\n",
       "                                     annotation_data  \\\n",
       "0                 [астрономия, публичные наблюдения]   \n",
       "1             [Солнце, Венера, прохождение, транзит]   \n",
       "2  [звезда, Солнце, VLT, ESO, Большое Магелланово...   \n",
       "3                                  [лунное затмение]   \n",
       "4  [телескоп, марка, астрономия, образование, школа]   \n",
       "\n",
       "                                     annotation_mine  \\\n",
       "0             [публичные астрономические наблюдения]   \n",
       "1                 [диск Солнца, Венера, прохождение]   \n",
       "2  [Солнце, диаграмма Герцшпрунга-Рессела, звезда...   \n",
       "3                            [Луна, лунное затмение]   \n",
       "4               [телескоп Фолкеса, школа, программа]   \n",
       "\n",
       "                                            keywords  \n",
       "0             [публичный астрономический наблюдение]  \n",
       "1         [прохождение, венера, диск солнце, солнце]  \n",
       "2  [eso, диаграмма герцшпрунг-рессело, большой ма...  \n",
       "3                            [луна, лунный затмение]  \n",
       "4  [программа, телескоп фолкес, школа, образовани...  "
      ]
     },
     "execution_count": 289,
     "metadata": {},
     "output_type": "execute_result"
    }
   ],
   "source": [
    "data.head()"
   ]
  },
  {
   "cell_type": "markdown",
   "metadata": {},
   "source": [
    "### Применяем модели"
   ]
  },
  {
   "cell_type": "code",
   "execution_count": 290,
   "metadata": {},
   "outputs": [],
   "source": [
    "def get_kws_RAKE(text):\n",
    "    rake = RAKE.Rake(stopwords)\n",
    "    extracted_keywords = rake.run(text, maxWords=3, minFrequency=2)\n",
    "    kw_list = [k[0] for k in extracted_keywords if k[1] > 0]\n",
    "\n",
    "    return kw_list\n",
    "\n",
    "\n",
    "def get_kws_TextRank(text):\n",
    "    extracted_keywords = keywords.keywords(text, language='russian', additional_stopwords=stopwords, scores=True)\n",
    "    kw_list = [k[0] for k in extracted_keywords if k[1] > 0]\n",
    "    \n",
    "    return kw_list\n",
    "\n",
    "\n",
    "def get_kws_tfidf(corpus):\n",
    "    vectorizer = TfidfVectorizer(ngram_range=(1, 3), stop_words=stopwords)\n",
    "    X = vectorizer.fit_transform(corpus).toarray()\n",
    "    vocab = vectorizer.get_feature_names_out()\n",
    "\n",
    "    sorted_indx = np.argsort(X, axis=1)[:, ::-1]\n",
    "    kw_list = vocab[sorted_indx[:, :5]]  #  take top-5 n-grams\n",
    "    \n",
    "    return list(kw_list)"
   ]
  },
  {
   "cell_type": "code",
   "execution_count": 291,
   "metadata": {},
   "outputs": [],
   "source": [
    "data['kw_RAKE'] = data.text.apply(get_kws_RAKE)\n",
    "data['kw_TextRank'] = data.text.apply(get_kws_TextRank)\n",
    "data['kw_tfidf'] = get_kws_tfidf(data.text.to_list())"
   ]
  },
  {
   "cell_type": "markdown",
   "metadata": {},
   "source": [
    "### Морфологические шаблоны"
   ]
  },
  {
   "cell_type": "code",
   "execution_count": 292,
   "metadata": {},
   "outputs": [],
   "source": [
    "morph_patterns = ['NOUN',\n",
    "                  'NOUN+NOUN',  # 'пояс астероидов'\n",
    "                  'ADJF+NOUN',  # 'лунное затмение'\n",
    "                  'ADJF+ADJF+NOUN',  # 'публичные астрономические наблюдения'\n",
    "                  'LATN'  # 'NASA' и всякое другое похожее - специфика текстов про астрономию\n",
    "                 ]"
   ]
  },
  {
   "cell_type": "code",
   "execution_count": 293,
   "metadata": {},
   "outputs": [],
   "source": [
    "def filter_by_morph(kw_list):\n",
    "    filtered_kw = []\n",
    "    \n",
    "    if kw_list != []:  #  иногда мы получаем пустые предсказания\n",
    "        for kw in kw_list:\n",
    "            tags = []\n",
    "            for word in simple_word_tokenize(kw):\n",
    "                tag = m.parse(word)[0].tag.POS\n",
    "                \n",
    "                if tag == None:\n",
    "                    tag = str(m.parse(word)[0].tag)  # для нестандартных граммем типа LATN\n",
    "                \n",
    "                tags.append(tag)\n",
    "            \n",
    "            pattern = '+'.join(tags)\n",
    "            \n",
    "            if pattern in morph_patterns:\n",
    "                filtered_kw.append(kw)\n",
    "\n",
    "    return filtered_kw"
   ]
  },
  {
   "cell_type": "code",
   "execution_count": 294,
   "metadata": {},
   "outputs": [
    {
     "name": "stderr",
     "output_type": "stream",
     "text": [
      "C:\\anaconda\\lib\\site-packages\\ipykernel_launcher.py:4: DeprecationWarning: elementwise comparison failed; this will raise an error in the future.\n",
      "  after removing the cwd from sys.path.\n"
     ]
    }
   ],
   "source": [
    "data['kw_RAKE_filtered'] = data.kw_RAKE.apply(filter_by_morph)\n",
    "data['kw_TextRank_filtered'] = data.kw_TextRank.apply(filter_by_morph)\n",
    "data['kw_tfidf_filtered'] = data.kw_tfidf.apply(filter_by_morph)"
   ]
  },
  {
   "cell_type": "code",
   "execution_count": 295,
   "metadata": {},
   "outputs": [
    {
     "data": {
      "text/html": [
       "<div>\n",
       "<style scoped>\n",
       "    .dataframe tbody tr th:only-of-type {\n",
       "        vertical-align: middle;\n",
       "    }\n",
       "\n",
       "    .dataframe tbody tr th {\n",
       "        vertical-align: top;\n",
       "    }\n",
       "\n",
       "    .dataframe thead th {\n",
       "        text-align: right;\n",
       "    }\n",
       "</style>\n",
       "<table border=\"1\" class=\"dataframe\">\n",
       "  <thead>\n",
       "    <tr style=\"text-align: right;\">\n",
       "      <th></th>\n",
       "      <th>text</th>\n",
       "      <th>annotation_data</th>\n",
       "      <th>annotation_mine</th>\n",
       "      <th>keywords</th>\n",
       "      <th>kw_RAKE</th>\n",
       "      <th>kw_TextRank</th>\n",
       "      <th>kw_tfidf</th>\n",
       "      <th>kw_RAKE_filtered</th>\n",
       "      <th>kw_TextRank_filtered</th>\n",
       "      <th>kw_tfidf_filtered</th>\n",
       "    </tr>\n",
       "  </thead>\n",
       "  <tbody>\n",
       "    <tr>\n",
       "      <th>0</th>\n",
       "      <td>сотрудник институт физико-математический образ...</td>\n",
       "      <td>[астрономия, публичные наблюдения]</td>\n",
       "      <td>[публичные астрономические наблюдения]</td>\n",
       "      <td>[публичный астрономический наблюдение]</td>\n",
       "      <td>[]</td>\n",
       "      <td>[физико образование, институт]</td>\n",
       "      <td>[часы адрес, погодный условие состояться, год ...</td>\n",
       "      <td>[]</td>\n",
       "      <td>[институт]</td>\n",
       "      <td>[часы адрес]</td>\n",
       "    </tr>\n",
       "    <tr>\n",
       "      <th>1</th>\n",
       "      <td>вчера группа любитель астрономия наш город быт...</td>\n",
       "      <td>[Солнце, Венера, прохождение, транзит]</td>\n",
       "      <td>[диск Солнца, Венера, прохождение]</td>\n",
       "      <td>[прохождение, венера, диск солнце, солнце]</td>\n",
       "      <td>[диск солнце]</td>\n",
       "      <td>[группа, наш, фотографический, непосредственны...</td>\n",
       "      <td>[венера диск солнце, венера, диск, диск солнце...</td>\n",
       "      <td>[диск солнце]</td>\n",
       "      <td>[группа, момент, наблюдение]</td>\n",
       "      <td>[венера, диск, диск солнце]</td>\n",
       "    </tr>\n",
       "    <tr>\n",
       "      <th>2</th>\n",
       "      <td>наука терпеть крах в попытка объяснить характе...</td>\n",
       "      <td>[звезда, Солнце, VLT, ESO, Большое Магелланово...</td>\n",
       "      <td>[Солнце, диаграмма Герцшпрунга-Рессела, звезда...</td>\n",
       "      <td>[eso, диаграмма герцшпрунг-рессело, большой ма...</td>\n",
       "      <td>[]</td>\n",
       "      <td>[звезда, наблюдение, время, феномен, обсервато...</td>\n",
       "      <td>[звезда, феномен, период, протяжение, эволюция]</td>\n",
       "      <td>[]</td>\n",
       "      <td>[звезда, наблюдение, время, феномен, обсервато...</td>\n",
       "      <td>[звезда, феномен, период, протяжение, эволюция]</td>\n",
       "    </tr>\n",
       "    <tr>\n",
       "      <th>3</th>\n",
       "      <td>завтра - 10 декабрь - житель наш край мочь ста...</td>\n",
       "      <td>[лунное затмение]</td>\n",
       "      <td>[Луна, лунное затмение]</td>\n",
       "      <td>[луна, лунный затмение]</td>\n",
       "      <td>[]</td>\n",
       "      <td>[луна, лунный затмение, декабрь, житель наш]</td>\n",
       "      <td>[вечер, земной, луна, затмение, красный]</td>\n",
       "      <td>[]</td>\n",
       "      <td>[луна, лунный затмение, декабрь]</td>\n",
       "      <td>[вечер, луна, затмение]</td>\n",
       "    </tr>\n",
       "    <tr>\n",
       "      <th>4</th>\n",
       "      <td>в россия стартовать британско-российский образ...</td>\n",
       "      <td>[телескоп, марка, астрономия, образование, школа]</td>\n",
       "      <td>[телескоп Фолкеса, школа, программа]</td>\n",
       "      <td>[программа, телескоп фолкес, школа, образовани...</td>\n",
       "      <td>[школьник, гаиша, вселенная, наука, великобрит...</td>\n",
       "      <td>[программа, телескоп фолкес, астроном, это, бр...</td>\n",
       "      <td>[программа, телескоп, фолкес, телескоп фолкес,...</td>\n",
       "      <td>[школьник, гаиша, вселенная, наука, великобрит...</td>\n",
       "      <td>[программа, телескоп фолкес, астроном, система...</td>\n",
       "      <td>[программа, телескоп, фолкес, телескоп фолкес,...</td>\n",
       "    </tr>\n",
       "  </tbody>\n",
       "</table>\n",
       "</div>"
      ],
      "text/plain": [
       "                                                text  \\\n",
       "0  сотрудник институт физико-математический образ...   \n",
       "1  вчера группа любитель астрономия наш город быт...   \n",
       "2  наука терпеть крах в попытка объяснить характе...   \n",
       "3  завтра - 10 декабрь - житель наш край мочь ста...   \n",
       "4  в россия стартовать британско-российский образ...   \n",
       "\n",
       "                                     annotation_data  \\\n",
       "0                 [астрономия, публичные наблюдения]   \n",
       "1             [Солнце, Венера, прохождение, транзит]   \n",
       "2  [звезда, Солнце, VLT, ESO, Большое Магелланово...   \n",
       "3                                  [лунное затмение]   \n",
       "4  [телескоп, марка, астрономия, образование, школа]   \n",
       "\n",
       "                                     annotation_mine  \\\n",
       "0             [публичные астрономические наблюдения]   \n",
       "1                 [диск Солнца, Венера, прохождение]   \n",
       "2  [Солнце, диаграмма Герцшпрунга-Рессела, звезда...   \n",
       "3                            [Луна, лунное затмение]   \n",
       "4               [телескоп Фолкеса, школа, программа]   \n",
       "\n",
       "                                            keywords  \\\n",
       "0             [публичный астрономический наблюдение]   \n",
       "1         [прохождение, венера, диск солнце, солнце]   \n",
       "2  [eso, диаграмма герцшпрунг-рессело, большой ма...   \n",
       "3                            [луна, лунный затмение]   \n",
       "4  [программа, телескоп фолкес, школа, образовани...   \n",
       "\n",
       "                                             kw_RAKE  \\\n",
       "0                                                 []   \n",
       "1                                      [диск солнце]   \n",
       "2                                                 []   \n",
       "3                                                 []   \n",
       "4  [школьник, гаиша, вселенная, наука, великобрит...   \n",
       "\n",
       "                                         kw_TextRank  \\\n",
       "0                     [физико образование, институт]   \n",
       "1  [группа, наш, фотографический, непосредственны...   \n",
       "2  [звезда, наблюдение, время, феномен, обсервато...   \n",
       "3       [луна, лунный затмение, декабрь, житель наш]   \n",
       "4  [программа, телескоп фолкес, астроном, это, бр...   \n",
       "\n",
       "                                            kw_tfidf  \\\n",
       "0  [часы адрес, погодный условие состояться, год ...   \n",
       "1  [венера диск солнце, венера, диск, диск солнце...   \n",
       "2    [звезда, феномен, период, протяжение, эволюция]   \n",
       "3           [вечер, земной, луна, затмение, красный]   \n",
       "4  [программа, телескоп, фолкес, телескоп фолкес,...   \n",
       "\n",
       "                                    kw_RAKE_filtered  \\\n",
       "0                                                 []   \n",
       "1                                      [диск солнце]   \n",
       "2                                                 []   \n",
       "3                                                 []   \n",
       "4  [школьник, гаиша, вселенная, наука, великобрит...   \n",
       "\n",
       "                                kw_TextRank_filtered  \\\n",
       "0                                         [институт]   \n",
       "1                       [группа, момент, наблюдение]   \n",
       "2  [звезда, наблюдение, время, феномен, обсервато...   \n",
       "3                   [луна, лунный затмение, декабрь]   \n",
       "4  [программа, телескоп фолкес, астроном, система...   \n",
       "\n",
       "                                   kw_tfidf_filtered  \n",
       "0                                       [часы адрес]  \n",
       "1                        [венера, диск, диск солнце]  \n",
       "2    [звезда, феномен, период, протяжение, эволюция]  \n",
       "3                            [вечер, луна, затмение]  \n",
       "4  [программа, телескоп, фолкес, телескоп фолкес,...  "
      ]
     },
     "execution_count": 295,
     "metadata": {},
     "output_type": "execute_result"
    }
   ],
   "source": [
    "data.head()"
   ]
  },
  {
   "cell_type": "markdown",
   "metadata": {},
   "source": [
    "### Считаем метрики"
   ]
  },
  {
   "cell_type": "code",
   "execution_count": 296,
   "metadata": {},
   "outputs": [],
   "source": [
    "def get_scores_for_one(predicted, gold_standard):\n",
    "    tp = set(predicted).intersection(gold_standard) \n",
    "    fp = set(predicted) - tp\n",
    "    fn = set(gold_standard) - tp\n",
    "    \n",
    "    return tp, fp, fn"
   ]
  },
  {
   "cell_type": "code",
   "execution_count": 297,
   "metadata": {},
   "outputs": [],
   "source": [
    "def count_metrics(tp, fp, fn):\n",
    "    if tp != 0:\n",
    "        precision = tp / (tp + fp)\n",
    "        recall = tp / (tp + fn)\n",
    "        f_score = 2 * ((precision*recall)/(precision+recall))\n",
    "        metrics = {'precision': precision, 'recall': recall, 'f-score': f_score}\n",
    "    else:\n",
    "        metrics = {'precision': 0, 'recall': 0, 'f-score': 0}\n",
    "    \n",
    "    return metrics"
   ]
  },
  {
   "cell_type": "code",
   "execution_count": 298,
   "metadata": {},
   "outputs": [],
   "source": [
    "def get_metrics(predicted, gold_standard):\n",
    "    tp_count = 0\n",
    "    fp_count = 0\n",
    "    fn_count = 0\n",
    "    \n",
    "    for idx, pred in enumerate(predicted):\n",
    "        tp, fp, fn = get_scores_for_one(pred, gold_standard[idx])\n",
    "        tp_count += len(tp)\n",
    "        fp_count += len(fp)\n",
    "        fn_count += len(fn)\n",
    "        \n",
    "    metrics = count_metrics(tp_count, fp_count, fn_count)\n",
    "    \n",
    "    return metrics"
   ]
  },
  {
   "cell_type": "code",
   "execution_count": 299,
   "metadata": {},
   "outputs": [],
   "source": [
    "metrics_df = pd.DataFrame(columns=['precision', 'recall', 'f-score'])\n",
    "\n",
    "metrics_df.loc['RAKE'] = get_metrics(data.kw_RAKE.to_list(), data.keywords.to_list())\n",
    "metrics_df.loc['TextRank'] = get_metrics(data.kw_TextRank.to_list(), data.keywords.to_list())\n",
    "metrics_df.loc['tfidf'] = get_metrics(data.kw_tfidf.to_list(), data.keywords.to_list())\n",
    "metrics_df.loc['RAKE_filtered'] = get_metrics(data.kw_RAKE_filtered.to_list(), data.keywords.to_list())\n",
    "metrics_df.loc['TextRank_filtered'] = get_metrics(data.kw_TextRank_filtered.to_list(), data.keywords.to_list())\n",
    "metrics_df.loc['tfidf_filtered'] = get_metrics(data.kw_tfidf_filtered.to_list(), data.keywords.to_list())"
   ]
  },
  {
   "cell_type": "code",
   "execution_count": 300,
   "metadata": {},
   "outputs": [
    {
     "data": {
      "text/html": [
       "<div>\n",
       "<style scoped>\n",
       "    .dataframe tbody tr th:only-of-type {\n",
       "        vertical-align: middle;\n",
       "    }\n",
       "\n",
       "    .dataframe tbody tr th {\n",
       "        vertical-align: top;\n",
       "    }\n",
       "\n",
       "    .dataframe thead th {\n",
       "        text-align: right;\n",
       "    }\n",
       "</style>\n",
       "<table border=\"1\" class=\"dataframe\">\n",
       "  <thead>\n",
       "    <tr style=\"text-align: right;\">\n",
       "      <th></th>\n",
       "      <th>precision</th>\n",
       "      <th>recall</th>\n",
       "      <th>f-score</th>\n",
       "    </tr>\n",
       "  </thead>\n",
       "  <tbody>\n",
       "    <tr>\n",
       "      <th>RAKE</th>\n",
       "      <td>0.250000</td>\n",
       "      <td>0.112676</td>\n",
       "      <td>0.155340</td>\n",
       "    </tr>\n",
       "    <tr>\n",
       "      <th>TextRank</th>\n",
       "      <td>0.085502</td>\n",
       "      <td>0.323944</td>\n",
       "      <td>0.135294</td>\n",
       "    </tr>\n",
       "    <tr>\n",
       "      <th>tfidf</th>\n",
       "      <td>0.293333</td>\n",
       "      <td>0.309859</td>\n",
       "      <td>0.301370</td>\n",
       "    </tr>\n",
       "    <tr>\n",
       "      <th>RAKE_filtered</th>\n",
       "      <td>0.307692</td>\n",
       "      <td>0.112676</td>\n",
       "      <td>0.164948</td>\n",
       "    </tr>\n",
       "    <tr>\n",
       "      <th>TextRank_filtered</th>\n",
       "      <td>0.136905</td>\n",
       "      <td>0.323944</td>\n",
       "      <td>0.192469</td>\n",
       "    </tr>\n",
       "    <tr>\n",
       "      <th>tfidf_filtered</th>\n",
       "      <td>0.385965</td>\n",
       "      <td>0.309859</td>\n",
       "      <td>0.343750</td>\n",
       "    </tr>\n",
       "  </tbody>\n",
       "</table>\n",
       "</div>"
      ],
      "text/plain": [
       "                   precision    recall   f-score\n",
       "RAKE                0.250000  0.112676  0.155340\n",
       "TextRank            0.085502  0.323944  0.135294\n",
       "tfidf               0.293333  0.309859  0.301370\n",
       "RAKE_filtered       0.307692  0.112676  0.164948\n",
       "TextRank_filtered   0.136905  0.323944  0.192469\n",
       "tfidf_filtered      0.385965  0.309859  0.343750"
      ]
     },
     "execution_count": 300,
     "metadata": {},
     "output_type": "execute_result"
    }
   ],
   "source": [
    "metrics_df"
   ]
  },
  {
   "cell_type": "markdown",
   "metadata": {},
   "source": [
    "### Анализ ошибок"
   ]
  },
  {
   "cell_type": "markdown",
   "metadata": {},
   "source": [
    "Во-первых, фильтрация всегда повышает качество выделения - увеличивает точность и не ухудшает полноту. Интересно, что лучшей моделью стала простая TfIdf векторизация. Возможно, дело в том, что более сложные методы плохо справляются с короткими текстами (длина текстов в моем корпусе варьируется, некоторые совсем короткие, и даже самые длинные все еще длиной не больше 500 токенов). Посчитаем метрики для каждого текста по отдельности и посмотрим, как они зависят от длины текста)."
   ]
  },
  {
   "cell_type": "code",
   "execution_count": 303,
   "metadata": {},
   "outputs": [],
   "source": [
    "def get_text_length(text):\n",
    "    return len(simple_word_tokenize(text))\n",
    "\n",
    "new_df = pd.DataFrame()\n",
    "new_df['text_len'] = data.text.apply(get_text_length)"
   ]
  },
  {
   "cell_type": "code",
   "execution_count": 304,
   "metadata": {},
   "outputs": [],
   "source": [
    "def get_metrics_for_text(row, model: str):\n",
    "    predicted, gold_standard = row[f'kw_{model}'], row['keywords']\n",
    "    \n",
    "    if predicted != []:\n",
    "        tp, fp, fn = get_scores_for_one(predicted, gold_standard)\n",
    "        metrics = count_metrics(len(tp), len(fp), len(fn))\n",
    "    else:\n",
    "        return 0\n",
    "    \n",
    "    return metrics['f-score']"
   ]
  },
  {
   "cell_type": "code",
   "execution_count": 305,
   "metadata": {},
   "outputs": [
    {
     "name": "stderr",
     "output_type": "stream",
     "text": [
      "C:\\anaconda\\lib\\site-packages\\ipykernel_launcher.py:4: DeprecationWarning: elementwise comparison failed; this will raise an error in the future.\n",
      "  after removing the cwd from sys.path.\n"
     ]
    }
   ],
   "source": [
    "models = list(metrics_df.index)\n",
    "\n",
    "for model in models:\n",
    "    new_df[f'f-score_{model}'] = data.apply(lambda x: get_metrics_for_text(x, model=model), axis=1)"
   ]
  },
  {
   "cell_type": "code",
   "execution_count": 306,
   "metadata": {},
   "outputs": [
    {
     "data": {
      "text/html": [
       "<div>\n",
       "<style scoped>\n",
       "    .dataframe tbody tr th:only-of-type {\n",
       "        vertical-align: middle;\n",
       "    }\n",
       "\n",
       "    .dataframe tbody tr th {\n",
       "        vertical-align: top;\n",
       "    }\n",
       "\n",
       "    .dataframe thead th {\n",
       "        text-align: right;\n",
       "    }\n",
       "</style>\n",
       "<table border=\"1\" class=\"dataframe\">\n",
       "  <thead>\n",
       "    <tr style=\"text-align: right;\">\n",
       "      <th></th>\n",
       "      <th>text_len</th>\n",
       "      <th>f-score_RAKE</th>\n",
       "      <th>f-score_TextRank</th>\n",
       "      <th>f-score_tfidf</th>\n",
       "      <th>f-score_RAKE_filtered</th>\n",
       "      <th>f-score_TextRank_filtered</th>\n",
       "      <th>f-score_tfidf_filtered</th>\n",
       "    </tr>\n",
       "  </thead>\n",
       "  <tbody>\n",
       "    <tr>\n",
       "      <th>0</th>\n",
       "      <td>36</td>\n",
       "      <td>0.0</td>\n",
       "      <td>0.000000</td>\n",
       "      <td>0.000000</td>\n",
       "      <td>0.0</td>\n",
       "      <td>0.000000</td>\n",
       "      <td>0.000000</td>\n",
       "    </tr>\n",
       "    <tr>\n",
       "      <th>1</th>\n",
       "      <td>64</td>\n",
       "      <td>0.4</td>\n",
       "      <td>0.000000</td>\n",
       "      <td>0.444444</td>\n",
       "      <td>0.4</td>\n",
       "      <td>0.000000</td>\n",
       "      <td>0.571429</td>\n",
       "    </tr>\n",
       "    <tr>\n",
       "      <th>2</th>\n",
       "      <td>261</td>\n",
       "      <td>0.0</td>\n",
       "      <td>0.068966</td>\n",
       "      <td>0.181818</td>\n",
       "      <td>0.0</td>\n",
       "      <td>0.125000</td>\n",
       "      <td>0.181818</td>\n",
       "    </tr>\n",
       "    <tr>\n",
       "      <th>3</th>\n",
       "      <td>63</td>\n",
       "      <td>0.0</td>\n",
       "      <td>0.666667</td>\n",
       "      <td>0.285714</td>\n",
       "      <td>0.0</td>\n",
       "      <td>0.800000</td>\n",
       "      <td>0.400000</td>\n",
       "    </tr>\n",
       "    <tr>\n",
       "      <th>4</th>\n",
       "      <td>612</td>\n",
       "      <td>0.0</td>\n",
       "      <td>0.163265</td>\n",
       "      <td>0.545455</td>\n",
       "      <td>0.0</td>\n",
       "      <td>0.242424</td>\n",
       "      <td>0.545455</td>\n",
       "    </tr>\n",
       "  </tbody>\n",
       "</table>\n",
       "</div>"
      ],
      "text/plain": [
       "   text_len  f-score_RAKE  f-score_TextRank  f-score_tfidf  \\\n",
       "0        36           0.0          0.000000       0.000000   \n",
       "1        64           0.4          0.000000       0.444444   \n",
       "2       261           0.0          0.068966       0.181818   \n",
       "3        63           0.0          0.666667       0.285714   \n",
       "4       612           0.0          0.163265       0.545455   \n",
       "\n",
       "   f-score_RAKE_filtered  f-score_TextRank_filtered  f-score_tfidf_filtered  \n",
       "0                    0.0                   0.000000                0.000000  \n",
       "1                    0.4                   0.000000                0.571429  \n",
       "2                    0.0                   0.125000                0.181818  \n",
       "3                    0.0                   0.800000                0.400000  \n",
       "4                    0.0                   0.242424                0.545455  "
      ]
     },
     "execution_count": 306,
     "metadata": {},
     "output_type": "execute_result"
    }
   ],
   "source": [
    "new_df.head()"
   ]
  },
  {
   "cell_type": "code",
   "execution_count": 317,
   "metadata": {},
   "outputs": [
    {
     "data": {
      "image/png": "[encoded data removed]",
      "text/plain": [
       "<Figure size 864x576 with 6 Axes>"
      ]
     },
     "metadata": {
      "needs_background": "light"
     },
     "output_type": "display_data"
    }
   ],
   "source": [
    "fig, ax = plt.subplots(nrows=2, ncols=3, figsize=(12, 8), sharey=True)\n",
    "\n",
    "i = 0\n",
    "for row in ax:\n",
    "    for col in row:\n",
    "        x = new_df.text_len\n",
    "        y = new_df[f'f-score_{models[i]}']\n",
    "        col.scatter(x, y)\n",
    "        col.set_title(models[i])\n",
    "        \n",
    "        m, b = np.polyfit(x, y, 1)\n",
    "        col.plot(x, m*x + b)\n",
    "\n",
    "        i += 1"
   ]
  },
  {
   "cell_type": "markdown",
   "metadata": {},
   "source": [
    "Гипотеза не оправдалась - RAKE делает пустые предсказания и на длинных, и на коротких текстах."
   ]
  },
  {
   "cell_type": "markdown",
   "metadata": {},
   "source": [
    "Что можно было бы улучшить: использовать синтаксис, выделять именные группы, а не просто последовательности, да и вообще использовать более длинные тексты."
   ]
  },
  {
   "cell_type": "code",
   "execution_count": null,
   "metadata": {},
   "outputs": [],
   "source": []
  }
 ],
 "metadata": {
  "kernelspec": {
   "display_name": "Python 3 (ipykernel)",
   "language": "python",
   "name": "python3"
  },
  "language_info": {
   "codemirror_mode": {
    "name": "ipython",
    "version": 3
   },
   "file_extension": ".py",
   "mimetype": "text/x-python",
   "name": "python",
   "nbconvert_exporter": "python",
   "pygments_lexer": "ipython3",
   "version": "3.7.3"
  }
 },
 "nbformat": 4,
 "nbformat_minor": 2
}
